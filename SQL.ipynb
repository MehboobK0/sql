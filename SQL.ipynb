{
 "cells": [
  {
   "cell_type": "markdown",
   "id": "addd02fb",
   "metadata": {},
   "source": [
    "\n",
    "Q1. A database is a structured collection of data stored and organized for efficient retrieval and manipulation. SQL (Structured Query Language) is a language used to manage relational databases, known as SQL databases, while NoSQL databases use a non-relational model for data storage, providing more flexibility and scalability.\n",
    "\n",
    "Q2. DDL (Data Definition Language) is used to define, modify, and delete database objects. The following are the purposes of DDL commands:\n",
    "\n",
    "CREATE: Used to create new database objects such as tables, indexes, and views.\n",
    "DROP: Used to delete existing database objects.\n",
    "ALTER: Used to modify the structure of existing database objects.\n",
    "TRUNCATE: Used to remove all records from a table, but retains the table structure.\n"
   ]
  },
  {
   "cell_type": "markdown",
   "id": "3b4eaeb0",
   "metadata": {},
   "source": [
    "\n",
    "Example:\n",
    "\n",
    "\n",
    "CREATE TABLE Employees (\n",
    "    ID INT PRIMARY KEY,\n",
    "    Name VARCHAR(50),\n",
    "    Age INT\n",
    ");\n",
    "\n"
   ]
  },
  {
   "cell_type": "markdown",
   "id": "5438e257",
   "metadata": {},
   "source": [
    "Q3. DML (Data Manipulation Language) is used to manipulate data within database objects. The following are the DML commands:\n",
    "\n",
    "INSERT: Used to add new records into a table.\n",
    "UPDATE: Used to modify existing records in a table.\n",
    "DELETE: Used to remove records from a table."
   ]
  },
  {
   "cell_type": "markdown",
   "id": "2e8b1e10",
   "metadata": {},
   "source": [
    "INSERT INTO Employees (ID, Name, Age) VALUES (1, 'John', 30);\n",
    "\n",
    "UPDATE Employees SET Age = 31 WHERE Name = 'John';\n",
    "\n",
    "DELETE FROM Employees WHERE Name = 'John';"
   ]
  },
  {
   "cell_type": "markdown",
   "id": "082c4a78",
   "metadata": {},
   "source": [
    "Q5.\n",
    "\n",
    "Primary Key: A primary key is a unique identifier for each record in a table. It ensures that each row in a table is uniquely identified and cannot contain NULL values.\n",
    "Foreign Key: A foreign key is a column or a set of columns in a table that establishes a link between two tables. It enforces referential integrity by ensuring that values in the foreign key column(s) match values in the primary key column(s) of another table."
   ]
  },
  {
   "cell_type": "code",
   "execution_count": null,
   "id": "d3d285ef",
   "metadata": {},
   "outputs": [],
   "source": []
  }
 ],
 "metadata": {
  "kernelspec": {
   "display_name": "Python 3 (ipykernel)",
   "language": "python",
   "name": "python3"
  },
  "language_info": {
   "codemirror_mode": {
    "name": "ipython",
    "version": 3
   },
   "file_extension": ".py",
   "mimetype": "text/x-python",
   "name": "python",
   "nbconvert_exporter": "python",
   "pygments_lexer": "ipython3",
   "version": "3.9.12"
  }
 },
 "nbformat": 4,
 "nbformat_minor": 5
}
